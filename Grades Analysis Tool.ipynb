{
 "cells": [
  {
   "cell_type": "code",
   "execution_count": null,
   "id": "e5dd9854-ea57-49c7-94a5-100f03ed8694",
   "metadata": {},
   "outputs": [],
   "source": [
    "# grades_analysis.py\n",
    "\n",
    "import numpy as np\n",
    "\n",
    "# Create the \"grades\" array\n",
    "grades = np.array([85, 90, 88, 92, 95, 80, 75, 98, 89, 83])\n",
    "\n",
    "# Calculate the mean, median, and standard deviation of the grades\n",
    "mean_grade = np.mean(grades)\n",
    "median_grade = np.median(grades)\n",
    "std_deviation = np.std(grades)\n",
    "\n",
    "# Find the maximum and minimum of the grades\n",
    "max_grade = np.max(grades)\n",
    "min_grade = np.min(grades)\n",
    "\n",
    "# Sort the grades in ascending order\n",
    "sorted_grades = np.sort(grades)\n",
    "\n",
    "# Find the index of the highest grade in the array\n",
    "index_highest_grade = np.argmax(grades)\n",
    "\n",
    "# Count the number of students who scored above 90\n",
    "students_above_90 = np.sum(grades > 90)\n",
    "\n",
    "# Calculate the percentage of students who scored above 90\n",
    "percentage_above_90 = np.mean(grades > 90) * 100\n",
    "\n",
    "# Calculate the percentage of students who scored below 75\n",
    "percentage_below_75 = np.mean(grades < 75) * 100\n",
    "\n",
    "# Extract all the grades above 90 and put them in a new array called \"high_performers\"\n",
    "high_performers = grades[grades > 90]\n",
    "\n",
    "# Create a new array called \"passing_grades\" that contains all the grades above 75\n",
    "passing_grades = grades[grades > 75]\n",
    "\n",
    "# Print the results\n",
    "print(\"Grades:\", grades)\n",
    "print(\"Mean Grade:\", mean_grade)\n",
    "print(\"Median Grade:\", median_grade)\n",
    "print(\"Standard Deviation:\", std_deviation)\n",
    "print(\"Maximum Grade:\", max_grade)\n",
    "print(\"Minimum Grade:\", min_grade)\n",
    "print(\"Sorted Grades:\", sorted_grades)\n",
    "print(\"Index of Highest Grade:\", index_highest_grade)\n",
    "print(\"Number of Students Scored Above 90:\", students_above_90)\n",
    "print(\"Percentage of Students Scored Above 90: {:.2f}%\".format(percentage_above_90))\n",
    "print(\"Percentage of Students Scored Below 75: {:.2f}%\".format(percentage_below_75))\n",
    "print(\"High Performers (Grades Above 90):\", high_performers)\n",
    "print(\"Passing Grades (Grades Above 75):\", passing_grades)\n"
   ]
  }
 ],
 "metadata": {
  "kernelspec": {
   "display_name": "Python 3 (ipykernel)",
   "language": "python",
   "name": "python3"
  },
  "language_info": {
   "codemirror_mode": {
    "name": "ipython",
    "version": 3
   },
   "file_extension": ".py",
   "mimetype": "text/x-python",
   "name": "python",
   "nbconvert_exporter": "python",
   "pygments_lexer": "ipython3",
   "version": "3.11.7"
  }
 },
 "nbformat": 4,
 "nbformat_minor": 5
}
